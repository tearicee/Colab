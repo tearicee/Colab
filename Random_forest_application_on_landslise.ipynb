{
  "cells": [
    {
      "cell_type": "markdown",
      "metadata": {
        "id": "view-in-github",
        "colab_type": "text"
      },
      "source": [
        "<a href=\"https://colab.research.google.com/github/tearicee/Colab/blob/main/Random_forest_application_on_landslise.ipynb\" target=\"_parent\"><img src=\"https://colab.research.google.com/assets/colab-badge.svg\" alt=\"Open In Colab\"/></a>"
      ]
    },
    {
      "cell_type": "markdown",
      "metadata": {
        "id": "lsuXUA1Vy_VR"
      },
      "source": [
        "# Install the package for reading geographic data\n",
        "\n"
      ]
    },
    {
      "cell_type": "code",
      "execution_count": 2,
      "metadata": {
        "id": "1EHUsDepyym7"
      },
      "outputs": [],
      "source": [
        "# from osgeo import gdal\n",
        "from PIL import Image\n",
        "from sklearn.model_selection import train_test_split\n",
        "from sklearn.ensemble import RandomForestClassifier\n",
        "from sklearn.metrics import accuracy_score\n",
        "import pandas as pd\n",
        "import numpy as np\n",
        "import tensorflow\n",
        "import cv2 "
      ]
    },
    {
      "cell_type": "code",
      "execution_count": 3,
      "metadata": {
        "colab": {
          "base_uri": "https://localhost:8080/"
        },
        "id": "jMSEOpZgajVo",
        "outputId": "a6377870-9b56-42df-aad6-d598e2837b7e"
      },
      "outputs": [
        {
          "output_type": "stream",
          "name": "stdout",
          "text": [
            "Mounted at /content/drive\n"
          ]
        }
      ],
      "source": [
        "from google.colab import drive\n",
        "drive.mount('/content/drive')"
      ]
    },
    {
      "cell_type": "markdown",
      "metadata": {
        "id": "wdgSNr2e1Xzt"
      },
      "source": [
        "# read .tif file"
      ]
    },
    {
      "cell_type": "code",
      "execution_count": 4,
      "metadata": {
        "colab": {
          "base_uri": "https://localhost:8080/",
          "height": 219
        },
        "id": "1sJ9FuZ7zlCo",
        "outputId": "7de82242-6ba7-4868-a435-237f03a616e1"
      },
      "outputs": [
        {
          "output_type": "error",
          "ename": "NameError",
          "evalue": "ignored",
          "traceback": [
            "\u001b[0;31m---------------------------------------------------------------------------\u001b[0m",
            "\u001b[0;31mNameError\u001b[0m                                 Traceback (most recent call last)",
            "\u001b[0;32m<ipython-input-4-34068c082793>\u001b[0m in \u001b[0;36m<cell line: 2>\u001b[0;34m()\u001b[0m\n\u001b[1;32m      1\u001b[0m \u001b[0mfile_aspect\u001b[0m \u001b[0;34m=\u001b[0m \u001b[0;34m'/content/drive/MyDrive/Datasets/Geographic data/Aspect_wgs84_clip_20m.tif'\u001b[0m\u001b[0;34m\u001b[0m\u001b[0;34m\u001b[0m\u001b[0m\n\u001b[0;32m----> 2\u001b[0;31m \u001b[0mdataset\u001b[0m \u001b[0;34m=\u001b[0m \u001b[0mgdal\u001b[0m\u001b[0;34m.\u001b[0m\u001b[0mOpen\u001b[0m\u001b[0;34m(\u001b[0m\u001b[0mfile_aspect\u001b[0m\u001b[0;34m)\u001b[0m\u001b[0;34m\u001b[0m\u001b[0;34m\u001b[0m\u001b[0m\n\u001b[0m\u001b[1;32m      3\u001b[0m \u001b[0mband\u001b[0m \u001b[0;34m=\u001b[0m \u001b[0mdataset\u001b[0m\u001b[0;34m.\u001b[0m\u001b[0mGetRasterBand\u001b[0m\u001b[0;34m(\u001b[0m\u001b[0;36m1\u001b[0m\u001b[0;34m)\u001b[0m\u001b[0;34m\u001b[0m\u001b[0;34m\u001b[0m\u001b[0m\n\u001b[1;32m      4\u001b[0m \u001b[0mdata\u001b[0m \u001b[0;34m=\u001b[0m \u001b[0mband\u001b[0m\u001b[0;34m.\u001b[0m\u001b[0mReadAsArray\u001b[0m\u001b[0;34m(\u001b[0m\u001b[0;34m)\u001b[0m\u001b[0;34m.\u001b[0m\u001b[0mastype\u001b[0m\u001b[0;34m(\u001b[0m\u001b[0mnp\u001b[0m\u001b[0;34m.\u001b[0m\u001b[0mfloat\u001b[0m\u001b[0;34m)\u001b[0m\u001b[0;34m\u001b[0m\u001b[0;34m\u001b[0m\u001b[0m\n",
            "\u001b[0;31mNameError\u001b[0m: name 'gdal' is not defined"
          ]
        }
      ],
      "source": [
        "file_aspect = '/content/drive/MyDrive/Datasets/Geographic data/Aspect_wgs84_clip_20m.tif'\n",
        "dataset = gdal.Open(file_aspect)\n",
        "band = dataset.GetRasterBand(1)\n",
        "data = band.ReadAsArray().astype(np.float)"
      ]
    },
    {
      "cell_type": "code",
      "execution_count": null,
      "metadata": {
        "id": "7DjlDIha1htB"
      },
      "outputs": [],
      "source": [
        "# 讀取訓練數據\n",
        "train_files = ['2004_2014_TIN_cubic_20m.tif', 'Aspect_wgs84_clip_20m.tif', 'NDBI_20140129_clip_wgs84_20m.tif',\n",
        "               'NDVI_20140129_clip_wgs84_20m.tif', 'PlanCurvature_wgs84_clip_20m.tif', 'ProfileCurvature_wgs84_clip_20m.tif',\n",
        "               'Slope_wgs84_clip_20m.tif', 'TWI2_20m2.tif', 'dem5m_clip_wgs84_20m.tif', 'distance_fault_all_wgs84_20m.tif',\n",
        "               'distance_fold_all_wgs84_20m.tif', 'distance_river_all_2_wgs84_20m.tif', 'distance_road_all_2_wgs84_20m.tif',\n",
        "               'geomap_clip_20m_c.tif']\n",
        "\n",
        "X_train = []\n",
        "Y_train = []\n",
        "\n",
        "for f in train_files:\n",
        "\n",
        "    file_path = '/content/drive/MyDrive/Datasets/Geographic data/' + f\n",
        "    print('Reading files...', file_path)\n",
        "    image = cv2.imread(file_path, cv2.IMREAD_UNCHANGED)\n",
        "\n",
        "    if image is not None:\n",
        "        X_train.append(image.flatten())\n",
        "\n",
        "# 讀取預測檔案\n",
        "predict_file = '2015_10000_clip_20m5.tif'\n",
        "predict_path = '/content/drive/MyDrive/Datasets/Geographic data/' + predict_file\n",
        "predict_image = cv2.imread(predict_path, cv2.IMREAD_UNCHANGED)\n",
        "Y_train.append(predict_image.flatten())\n",
        "\n",
        "\n"
      ]
    },
    {
      "cell_type": "code",
      "execution_count": null,
      "metadata": {
        "id": "bpTdlw9E7TUV"
      },
      "outputs": [],
      "source": [
        "X = pd.DataFrame(X_train)\n",
        "Y = pd.DataFrame(Y_train)\n",
        "\n",
        "X_train, X_test, Y_train, Y_test = train_test_split(X, Y, test_size=0.3, random_state=42, stratify=Y)\n",
        "print('train shape:', X_train.shape)\n",
        "print('test shape:', X_test.shape)"
      ]
    },
    {
      "cell_type": "code",
      "execution_count": null,
      "metadata": {
        "id": "KcHz6-XOgKIW"
      },
      "outputs": [],
      "source": [
        "from sklearn.ensemble import RandomForestClassifier\n",
        "\n",
        "# 建立 Random Forest Classifier 模型\n",
        "randomForestModel = RandomForestClassifier(n_estimators=100, criterion = 'gini')\n",
        "# 使用訓練資料訓練模型\n",
        "randomForestModel.fit(X_train, Y_train)\n",
        "# 使用訓練資料預測分類\n",
        "predicted = randomForestModel.predict(X_train)"
      ]
    },
    {
      "cell_type": "code",
      "execution_count": null,
      "metadata": {
        "id": "QVYIho_EFL-g"
      },
      "outputs": [],
      "source": [
        "con_ = pd.concat([X_train, Y_train], axis = 1)\n",
        "con_"
      ]
    },
    {
      "cell_type": "code",
      "execution_count": null,
      "metadata": {
        "id": "1WZy_9EYFCCf"
      },
      "outputs": [],
      "source": [
        "print(len(data_curvature))\n",
        "print(data)\n"
      ]
    }
  ],
  "metadata": {
    "colab": {
      "provenance": [],
      "gpuType": "T4",
      "authorship_tag": "ABX9TyMSWlGrEh27jNxF18gZ4xyF",
      "include_colab_link": true
    },
    "kernelspec": {
      "display_name": "Python 3",
      "name": "python3"
    },
    "language_info": {
      "name": "python"
    },
    "accelerator": "GPU",
    "gpuClass": "standard"
  },
  "nbformat": 4,
  "nbformat_minor": 0
}